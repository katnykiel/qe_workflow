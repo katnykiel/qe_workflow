{
 "cells": [
  {
   "cell_type": "markdown",
   "metadata": {},
   "source": [
    "# qe_workflow.ipynb\n",
    "### Kat Nykiel, Alejandro Strachan\n",
    "\n",
    "This notebook provides a sample workflow for running quantum espresso calculations on nanoHUB. In this example, we will relax a MXene, Ti$_3$C$_2$ using quantum espresso\n",
    "\n",
    "**Note**: this notebook assumes you're vaguely familiar with python and Jupyter notebooks. If you aren't , please reach out to one of us and we'll be able to help\n",
    "\n"
   ]
  },
  {
   "cell_type": "markdown",
   "metadata": {},
   "source": [
    "To start, let's import the python libraries we'll be using throughout the notebook, and an addition script with helper functions.\n",
    "\n",
    "There will likely be a warning printed: this is fine. Not ideal, but it won't break the notebook"
   ]
  },
  {
   "cell_type": "code",
   "execution_count": null,
   "metadata": {
    "ExecuteTime": {
     "end_time": "2023-09-25T17:37:14.710034Z",
     "start_time": "2023-09-25T17:37:03.412691Z"
    }
   },
   "outputs": [],
   "source": [
    "# Import libraries\n",
    "import numpy as np\n",
    "from mp_api.client import MPRester\n",
    "from pymatgen.io.pwscf import PWInput\n",
    "\n",
    "# Import helper functions\n",
    "from qe_functions import *"
   ]
  },
  {
   "cell_type": "markdown",
   "metadata": {},
   "source": [
    "## Query structure from Materials Project\n",
    "\n",
    "The first step of our workflow is choosing which system we want to simulate. [Materials Project](https://materialsproject.org/) is an open database which catalogues information on tens of thousands of materials and their properties.\n",
    "\n",
    "If you don't have one already, now would be a good time to obtain an API key, which we'll use to connect to Materials Project. You can do so [here](https://materialsproject.org/api)\n",
    "\n",
    "Next, we want to choose our system of interest on Materials Project. Here, we're using Ti$_3$C$_2$ on Materials Project.\n",
    "\n",
    "\n",
    "<div>\n",
    "<img src=\"images/MP_dashboard.png\" width=\"800\"/>\n",
    "</div>\n",
    "\n",
    "\n",
    "**task:** Run the following cells to load your key and query for your specific mp-ID"
   ]
  },
  {
   "cell_type": "code",
   "execution_count": null,
   "metadata": {
    "ExecuteTime": {
     "end_time": "2023-09-25T14:56:28.741560Z",
     "start_time": "2023-09-25T14:56:28.738939Z"
    }
   },
   "outputs": [],
   "source": [
    "# Load (or enter when prompted) your API key \n",
    "key = read_key()"
   ]
  },
  {
   "cell_type": "code",
   "execution_count": null,
   "metadata": {
    "ExecuteTime": {
     "end_time": "2023-09-25T14:56:31.002010Z",
     "start_time": "2023-09-25T14:56:30.220183Z"
    },
    "scrolled": false
   },
   "outputs": [],
   "source": [
    "# Query using new Materials Project API for a specific ID\n",
    "with MPRester(key) as m:\n",
    "    data = m.materials.summary.search(material_ids=[\"mp-1094034\"]) # Change this to your chosen mp-ID"
   ]
  },
  {
   "cell_type": "markdown",
   "metadata": {},
   "source": [
    "This returns a lot of information, but right now we're just interested in the **structure** object. This is the Materials Project-preferred way to pass unit cell data (lattice, basis, etc.) in python"
   ]
  },
  {
   "cell_type": "code",
   "execution_count": null,
   "metadata": {
    "ExecuteTime": {
     "end_time": "2023-09-25T14:56:34.846924Z",
     "start_time": "2023-09-25T14:56:34.839788Z"
    },
    "scrolled": true
   },
   "outputs": [],
   "source": [
    "struct = data[0].structure\n",
    "display(struct)"
   ]
  },
  {
   "cell_type": "markdown",
   "metadata": {},
   "source": [
    "## Run density functional theory with quantum espresso\n",
    "\n",
    "Next, we want to run ionic and  variable cell relaxations using density functional theory.\n",
    "\n",
    "We'll be doing this using [**quantum espresso**](https://www.quantum-espresso.org/) (QE), an open-source code for DFT. To make it easier to create input files, we're going to continue using *pymatgen*, a python library for computational materials science\n",
    "\n",
    "In this example, we'll use a set of project-augmented wave (PAW) pseudopotentials with a Perdew–Burke–Ernzerhof (PBE) exchange-correlation functional. Several other choices are found [here](https://www.quantum-espresso.org/pseudopotentials/) "
   ]
  },
  {
   "cell_type": "markdown",
   "metadata": {},
   "source": [
    "### Generate QE input files using pymatgen\n",
    "These two functions will let us create and run QE simulations from a Jupyter notebook, which makes it much easier to automate than manually editing the files. "
   ]
  },
  {
   "cell_type": "code",
   "execution_count": null,
   "metadata": {
    "ExecuteTime": {
     "end_time": "2023-09-25T14:58:45.040001Z",
     "start_time": "2023-09-25T14:58:45.029440Z"
    }
   },
   "outputs": [],
   "source": [
    "def make_sim(name,struct,**kwargs):\n",
    "    \"\"\"\n",
    "    Generate quantum espresso input files using pymatgen's PWInput class\n",
    "    \n",
    "    Inputs:\n",
    "        name: chosen name for your simulation (i.e. ionic_relax)\n",
    "        struct: pymatgen structure object \n",
    "    Outputs: \n",
    "        n/a\n",
    "    **kwargs:\n",
    "        dictionaries to input to pymatgen's PWInput object\n",
    "    \"\"\"\n",
    "    # Prepare dict of pseudopotentials (i.e. {'Mg': 'Mg.upf', 'O': 'O.upf'})\n",
    "    elements = np.unique([site.species.elements[0].symbol for site in struct.sites])\n",
    "    pseudo_dict = dict(zip(elements,[f\"{element}.upf\" for element in elements]))\n",
    "\n",
    "    # Define input set\n",
    "    input_set = PWInput(structure=struct,\n",
    "                        pseudo=pseudo_dict,\n",
    "                        **kwargs) # dictionaries corresponding to blocks in QE input files\n",
    "\n",
    "    input_set.write_file(filename=f'{name}.in')\n",
    "    \n",
    "def run_sim(name,struct):\n",
    "    \"\"\"\n",
    "    Submit quantum espresso runs to HPC clusters on nanoHUB\n",
    "    \n",
    "    Inputs:\n",
    "        name: chosen name for your simulation (i.e. ionic_relax)\n",
    "        struct: pymatgen structure object \n",
    "    Outputs: \n",
    "        n/a\n",
    "    \"\"\"\n",
    "    # Write input and output files\n",
    "    input_file = open(f'{name}.in','a')\n",
    "    input_file.close()\n",
    "\n",
    "    output_file = open(f'{name}.out', 'w')\n",
    "    output_file.close()\n",
    "    \n",
    "    # Set up commands and files\n",
    "    elements = np.unique([site.species.elements[0].symbol for site in struct.sites])\n",
    "    pseudo_arg = \"\".join([f\"-i ./pseudo/pseudo_PAW/{element}.upf \" for element in elements])\n",
    "    COMMAND = f\"espresso-6.8_pw > {output_file.name}\"\n",
    "    \n",
    "    # Run simulation (1 node, 1 hour walltime)\n",
    "    !submit -n 1 -w '01:00:00' -e QE_DISABLE_GGA_PBE=0 --runName {name} {COMMAND} {pseudo_arg} -i {input_file.name}\n"
   ]
  },
  {
   "cell_type": "markdown",
   "metadata": {},
   "source": [
    "*Note*: this submits jobs remotely to Brown, which is being decommisioned on November 8, 2023. See the README for instructions on submitting locally."
   ]
  },
  {
   "cell_type": "markdown",
   "metadata": {},
   "source": [
    "### Run an ionic relaxation of our structure\n",
    "Let's use our two functions to run an ionic relaxation in quantum espresso. The parameters of the simulation are controlled via tags, which are found [here](https://www.quantum-espresso.org/Doc/INPUT_PW.html). They are controlled by blocks (control, system, etc.) and passed to our function as dictionaries of tags\n",
    "\n",
    "**** The kinetic energy cutoff (ecutwfc) and kpoints (kpoints_grid) have a significant effect on the convergence of the simulation. In DFT, we typically hold one parameter at a high value and vary the other to determine what minimum is necessary for convergence with respect to some property (i.e. lattice parameter)."
   ]
  },
  {
   "cell_type": "code",
   "execution_count": null,
   "metadata": {
    "ExecuteTime": {
     "end_time": "2023-09-25T14:58:52.596271Z",
     "start_time": "2023-09-25T14:58:52.590190Z"
    }
   },
   "outputs": [],
   "source": [
    "# Create an ionic relaxation sim\n",
    "make_sim(\"relax\", struct,\n",
    "         control={'pseudo_dir':'./',\n",
    "                  'calculation':'relax',\n",
    "                  'outdir':'./',\n",
    "                  'tstress':True},\n",
    "         system={'ecutwfc':50},\n",
    "         kpoints_grid=[3,3,3])"
   ]
  },
  {
   "cell_type": "markdown",
   "metadata": {},
   "source": [
    "The input file should be made! Check your directory for a *relax.in* file. This is what quantum espresso uses to determine which simulation to run."
   ]
  },
  {
   "cell_type": "code",
   "execution_count": null,
   "metadata": {
    "ExecuteTime": {
     "start_time": "2023-09-25T14:59:26.939Z"
    }
   },
   "outputs": [],
   "source": [
    "# Run relax simulation\n",
    "run_sim(\"relax\", struct)"
   ]
  },
  {
   "cell_type": "markdown",
   "metadata": {},
   "source": [
    "This simulation should take ~30 minutes to run. If it takes longer, consider lowering the kinetic energy cutoff or kpoint size, or choosing a smaller system. \n",
    "\n",
    "Once it's done, run the following cells to extract some outputs"
   ]
  },
  {
   "cell_type": "code",
   "execution_count": null,
   "metadata": {},
   "outputs": [],
   "source": [
    "# Extract outputs using helper function\n",
    "relax_dict = get_qe_outputs('relax.stdout')\n",
    "relaxed_struct = relax_dict['structures']"
   ]
  },
  {
   "cell_type": "code",
   "execution_count": null,
   "metadata": {},
   "outputs": [],
   "source": [
    "# Get a list of all the extracted outputs\n",
    "[print(k) for k,v in relax_dict.items()];"
   ]
  },
  {
   "cell_type": "code",
   "execution_count": null,
   "metadata": {},
   "outputs": [],
   "source": [
    "# Check a plot of energy as a function of step to see if our run is converging\n",
    "get_convergence_plots(step_dict=relax_dict,sim_name='ionic relax')"
   ]
  },
  {
   "cell_type": "markdown",
   "metadata": {},
   "source": [
    "### Run a variable cell relaxation of our structure"
   ]
  },
  {
   "cell_type": "code",
   "execution_count": null,
   "metadata": {},
   "outputs": [],
   "source": [
    "# Create a variable-cell relaxation sim\n",
    "make_sim(\"vcrelax\", struct,\n",
    "         control={'pseudo_dir':'./',\n",
    "                  'calculation':'vc-relax',\n",
    "                  'outdir':'./',\n",
    "                  'tstress':True},\n",
    "         cell={'press':relax_dict['pressure'][-1]},\n",
    "         system={'ecutwfc':50},\n",
    "         kpoints_grid=[3,3,3])\n",
    "# Run vc-relax simulation\n",
    "run_sim(\"vcrelax\", struct)"
   ]
  },
  {
   "cell_type": "code",
   "execution_count": null,
   "metadata": {
    "scrolled": true
   },
   "outputs": [],
   "source": [
    "# Extract final energy and pressure\n",
    "vcrelax_dict = get_qe_outputs('vcrelax.stdout')\n",
    "final_energy = vcrelax_dict['ionic_energies'][-1]\n",
    "vcrelaxed_struct = vcrelax_dict['structures']\n",
    "print(f\"{final_energy} Ry\\n{vcrelax_dict['pressure'][-1]} kbar\")"
   ]
  },
  {
   "cell_type": "code",
   "execution_count": null,
   "metadata": {},
   "outputs": [],
   "source": [
    "# Check a plot of energy as a function of step to see if our run is converging\n",
    "get_convergence_plots(step_dict=vcrelax_dict,sim_name='vc-relax')"
   ]
  }
 ],
 "metadata": {
  "kernelspec": {
   "display_name": "Python3 (MatProject)",
   "language": "python",
   "name": "matproject"
  },
  "language_info": {
   "codemirror_mode": {
    "name": "ipython",
    "version": 3
   },
   "file_extension": ".py",
   "mimetype": "text/x-python",
   "name": "python",
   "nbconvert_exporter": "python",
   "pygments_lexer": "ipython3",
   "version": "3.9.18"
  },
  "toc": {
   "base_numbering": 1,
   "nav_menu": {},
   "number_sections": true,
   "sideBar": true,
   "skip_h1_title": false,
   "title_cell": "Table of Contents",
   "title_sidebar": "Contents",
   "toc_cell": false,
   "toc_position": {},
   "toc_section_display": true,
   "toc_window_display": false
  },
  "varInspector": {
   "cols": {
    "lenName": 16,
    "lenType": 16,
    "lenVar": 40
   },
   "kernels_config": {
    "python": {
     "delete_cmd_postfix": "",
     "delete_cmd_prefix": "del ",
     "library": "var_list.py",
     "varRefreshCmd": "print(var_dic_list())"
    },
    "r": {
     "delete_cmd_postfix": ") ",
     "delete_cmd_prefix": "rm(",
     "library": "var_list.r",
     "varRefreshCmd": "cat(var_dic_list()) "
    }
   },
   "types_to_exclude": [
    "module",
    "function",
    "builtin_function_or_method",
    "instance",
    "_Feature"
   ],
   "window_display": false
  },
  "vscode": {
   "interpreter": {
    "hash": "90e97c2e1e3d049a0c4dcb4a1fbc9eb7147afc887ab317ded913de62d02f2d04"
   }
  }
 },
 "nbformat": 4,
 "nbformat_minor": 2
}
